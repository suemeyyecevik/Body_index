{
  "nbformat": 4,
  "nbformat_minor": 0,
  "metadata": {
    "colab": {
      "provenance": []
    },
    "kernelspec": {
      "name": "python3",
      "display_name": "Python 3"
    },
    "language_info": {
      "name": "python"
    }
  },
  "cells": [
    {
      "cell_type": "code",
      "execution_count": null,
      "metadata": {
        "colab": {
          "base_uri": "https://localhost:8080/"
        },
        "id": "sVZt3DJ_YyW4",
        "outputId": "b816dfa0-21cb-425b-9674-be3a7b785308"
      },
      "outputs": [
        {
          "output_type": "stream",
          "name": "stdout",
          "text": [
            "Vücut Kitle İndeksi Hesaplama Programı\n",
            "Çıkış yapmak için 0'a basın.\n",
            "Boyunuzu (cm olarak) girin: 160\n",
            "Kilonuzu girin (kg olarak): 92\n",
            "Vücut Kitle İndeksiniz: 35.94\n",
            "Vücut Kitle İndeksi Hesaplama Programı\n",
            "Çıkış yapmak için 0'a basın.\n"
          ]
        }
      ],
      "source": [
        "def vki_hesapla(boy, kilo):\n",
        "    # Boyu metre cinsinden alıyoruz, o yüzden boyu 100'e bölüyoruz\n",
        "    boy_metre = boy / 100\n",
        "    vki = kilo / (boy_metre ** 2)\n",
        "    return vki\n",
        "\n",
        "while True:\n",
        "    print(\"Vücut Kitle İndeksi Hesaplama Programı\")\n",
        "    print(\"Çıkış yapmak için 0'a basın.\")\n",
        "\n",
        "    try:\n",
        "        boy = float(input(\"Boyunuzu (cm olarak) girin: \"))\n",
        "        if boy == 0:\n",
        "            break\n",
        "        kilo = float(input(\"Kilonuzu girin (kg olarak): \"))\n",
        "        if kilo == 0:\n",
        "            break\n",
        "\n",
        "        vki = vki_hesapla(boy, kilo)\n",
        "        print(f\"Vücut Kitle İndeksiniz: {vki:.2f}\")\n",
        "    except ValueError:\n",
        "        print(\"Geçersiz giriş! Lütfen geçerli bir sayı girin.\")"
      ]
    }
  ]
}